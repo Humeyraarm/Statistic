{
 "cells": [
  {
   "cell_type": "markdown",
   "id": "initial-windows",
   "metadata": {},
   "source": [
    "## What is the probability of rolling a total of 4 with 2 dice?"
   ]
  },
  {
   "cell_type": "raw",
   "id": "several-distinction",
   "metadata": {},
   "source": [
    "iki zar attığında toplamının 4 olma ihtimali"
   ]
  },
  {
   "cell_type": "code",
   "execution_count": 1,
   "id": "capable-roulette",
   "metadata": {},
   "outputs": [],
   "source": [
    "d = {(i, j): i + j for i in range(1, 7) for j in range(1,7)}"
   ]
  },
  {
   "cell_type": "code",
   "execution_count": 2,
   "id": "signed-argument",
   "metadata": {},
   "outputs": [
    {
     "data": {
      "text/plain": [
       "{(1, 1): 2,\n",
       " (1, 2): 3,\n",
       " (1, 3): 4,\n",
       " (1, 4): 5,\n",
       " (1, 5): 6,\n",
       " (1, 6): 7,\n",
       " (2, 1): 3,\n",
       " (2, 2): 4,\n",
       " (2, 3): 5,\n",
       " (2, 4): 6,\n",
       " (2, 5): 7,\n",
       " (2, 6): 8,\n",
       " (3, 1): 4,\n",
       " (3, 2): 5,\n",
       " (3, 3): 6,\n",
       " (3, 4): 7,\n",
       " (3, 5): 8,\n",
       " (3, 6): 9,\n",
       " (4, 1): 5,\n",
       " (4, 2): 6,\n",
       " (4, 3): 7,\n",
       " (4, 4): 8,\n",
       " (4, 5): 9,\n",
       " (4, 6): 10,\n",
       " (5, 1): 6,\n",
       " (5, 2): 7,\n",
       " (5, 3): 8,\n",
       " (5, 4): 9,\n",
       " (5, 5): 10,\n",
       " (5, 6): 11,\n",
       " (6, 1): 7,\n",
       " (6, 2): 8,\n",
       " (6, 3): 9,\n",
       " (6, 4): 10,\n",
       " (6, 5): 11,\n",
       " (6, 6): 12}"
      ]
     },
     "execution_count": 2,
     "metadata": {},
     "output_type": "execute_result"
    }
   ],
   "source": [
    "d"
   ]
  },
  {
   "cell_type": "code",
   "execution_count": 3,
   "id": "presidential-gasoline",
   "metadata": {},
   "outputs": [
    {
     "name": "stdout",
     "output_type": "stream",
     "text": [
      "(1, 3)\n",
      "(2, 2)\n",
      "(3, 1)\n"
     ]
    }
   ],
   "source": [
    "for pairs, toplam in d.items():\n",
    "    if toplam == 4 :\n",
    "        print(pairs)"
   ]
  },
  {
   "cell_type": "code",
   "execution_count": 4,
   "id": "continuing-advance",
   "metadata": {},
   "outputs": [
    {
     "data": {
      "text/plain": [
       "[(1, 3), (2, 2), (3, 1)]"
      ]
     },
     "execution_count": 4,
     "metadata": {},
     "output_type": "execute_result"
    }
   ],
   "source": [
    "p_list = []\n",
    "for pairs, toplam in d.items():\n",
    "    if toplam == 4 :\n",
    "        p_list.append(pairs)\n",
    "\n",
    "p_list"
   ]
  },
  {
   "cell_type": "code",
   "execution_count": 5,
   "id": "critical-disclosure",
   "metadata": {},
   "outputs": [
    {
     "data": {
      "text/plain": [
       "[(1, 3), (2, 2), (3, 1)]"
      ]
     },
     "execution_count": 5,
     "metadata": {},
     "output_type": "execute_result"
    }
   ],
   "source": [
    "search_sum = 4\n",
    "\n",
    "p_list = []\n",
    "for pairs, toplam in d.items():\n",
    "    if toplam == search_sum :\n",
    "        p_list.append(pairs)\n",
    "p_list"
   ]
  },
  {
   "cell_type": "code",
   "execution_count": 6,
   "id": "ethical-criterion",
   "metadata": {},
   "outputs": [
    {
     "data": {
      "text/plain": [
       "[(1, 5), (2, 4), (3, 3), (4, 2), (5, 1)]"
      ]
     },
     "execution_count": 6,
     "metadata": {},
     "output_type": "execute_result"
    }
   ],
   "source": [
    "# toplamı 6 yapan sonuçları bulmak için search_sum'ı 6 yapalım\n",
    "search_sum = 6\n",
    "p_list = []\n",
    "for pairs, toplam in d.items():\n",
    "    if toplam == search_sum :\n",
    "        p_list.append(pairs)\n",
    "p_list"
   ]
  },
  {
   "cell_type": "code",
   "execution_count": 7,
   "id": "experienced-logistics",
   "metadata": {},
   "outputs": [
    {
     "data": {
      "text/plain": [
       "[(1, 1),\n",
       " (1, 2),\n",
       " (2, 1),\n",
       " (1, 3),\n",
       " (2, 2),\n",
       " (3, 1),\n",
       " (1, 4),\n",
       " (2, 3),\n",
       " (3, 2),\n",
       " (4, 1),\n",
       " (1, 5),\n",
       " (2, 4),\n",
       " (3, 3),\n",
       " (4, 2),\n",
       " (5, 1),\n",
       " (1, 6),\n",
       " (2, 5),\n",
       " (3, 4),\n",
       " (4, 3),\n",
       " (5, 2),\n",
       " (6, 1),\n",
       " (1, 2),\n",
       " (2, 1),\n",
       " (1, 3),\n",
       " (2, 2),\n",
       " (3, 1),\n",
       " (1, 4),\n",
       " (2, 3),\n",
       " (3, 2),\n",
       " (4, 1),\n",
       " (1, 5),\n",
       " (2, 4),\n",
       " (3, 3),\n",
       " (4, 2),\n",
       " (5, 1),\n",
       " (1, 6),\n",
       " (2, 5),\n",
       " (3, 4),\n",
       " (4, 3),\n",
       " (5, 2),\n",
       " (6, 1),\n",
       " (2, 6),\n",
       " (3, 5),\n",
       " (4, 4),\n",
       " (5, 3),\n",
       " (6, 2),\n",
       " (1, 3),\n",
       " (2, 2),\n",
       " (3, 1),\n",
       " (1, 4),\n",
       " (2, 3),\n",
       " (3, 2),\n",
       " (4, 1),\n",
       " (1, 5),\n",
       " (2, 4),\n",
       " (3, 3),\n",
       " (4, 2),\n",
       " (5, 1),\n",
       " (1, 6),\n",
       " (2, 5),\n",
       " (3, 4),\n",
       " (4, 3),\n",
       " (5, 2),\n",
       " (6, 1),\n",
       " (2, 6),\n",
       " (3, 5),\n",
       " (4, 4),\n",
       " (5, 3),\n",
       " (6, 2),\n",
       " (3, 6),\n",
       " (4, 5),\n",
       " (5, 4),\n",
       " (6, 3),\n",
       " (1, 4),\n",
       " (2, 3),\n",
       " (3, 2),\n",
       " (4, 1),\n",
       " (1, 5),\n",
       " (2, 4),\n",
       " (3, 3),\n",
       " (4, 2),\n",
       " (5, 1),\n",
       " (1, 6),\n",
       " (2, 5),\n",
       " (3, 4),\n",
       " (4, 3),\n",
       " (5, 2),\n",
       " (6, 1),\n",
       " (2, 6),\n",
       " (3, 5),\n",
       " (4, 4),\n",
       " (5, 3),\n",
       " (6, 2),\n",
       " (3, 6),\n",
       " (4, 5),\n",
       " (5, 4),\n",
       " (6, 3),\n",
       " (4, 6),\n",
       " (5, 5),\n",
       " (6, 4),\n",
       " (1, 5),\n",
       " (2, 4),\n",
       " (3, 3),\n",
       " (4, 2),\n",
       " (5, 1),\n",
       " (1, 6),\n",
       " (2, 5),\n",
       " (3, 4),\n",
       " (4, 3),\n",
       " (5, 2),\n",
       " (6, 1),\n",
       " (2, 6),\n",
       " (3, 5),\n",
       " (4, 4),\n",
       " (5, 3),\n",
       " (6, 2),\n",
       " (3, 6),\n",
       " (4, 5),\n",
       " (5, 4),\n",
       " (6, 3),\n",
       " (4, 6),\n",
       " (5, 5),\n",
       " (6, 4),\n",
       " (5, 6),\n",
       " (6, 5),\n",
       " (1, 6),\n",
       " (2, 5),\n",
       " (3, 4),\n",
       " (4, 3),\n",
       " (5, 2),\n",
       " (6, 1),\n",
       " (2, 6),\n",
       " (3, 5),\n",
       " (4, 4),\n",
       " (5, 3),\n",
       " (6, 2),\n",
       " (3, 6),\n",
       " (4, 5),\n",
       " (5, 4),\n",
       " (6, 3),\n",
       " (4, 6),\n",
       " (5, 5),\n",
       " (6, 4),\n",
       " (5, 6),\n",
       " (6, 5),\n",
       " (6, 6)]"
      ]
     },
     "execution_count": 7,
     "metadata": {},
     "output_type": "execute_result"
    }
   ],
   "source": [
    "# iki zarın toplamı olan tüm ihtimaller için listeler yap \n",
    "\n",
    "p_list = []\n",
    "for i in d.values():\n",
    "    \n",
    "    for pairs, toplam in d.items():\n",
    "        if toplam == i :\n",
    "            p_list.append(pairs)\n",
    "p_list"
   ]
  },
  {
   "cell_type": "code",
   "execution_count": 70,
   "id": "precise-beads",
   "metadata": {},
   "outputs": [
    {
     "data": {
      "text/plain": [
       "[(1, 3), (2, 2), (3, 1)]"
      ]
     },
     "execution_count": 70,
     "metadata": {},
     "output_type": "execute_result"
    }
   ],
   "source": [
    "# sonraki kodlar için tekrar 4 yapalım.\n",
    "search_sum = 4\n",
    "\n",
    "p_list = []\n",
    "for pairs, toplam in d.items():\n",
    "    if toplam == search_sum :\n",
    "        p_list.append(pairs)\n",
    "p_list"
   ]
  },
  {
   "cell_type": "code",
   "execution_count": 71,
   "id": "verified-conditioning",
   "metadata": {},
   "outputs": [
    {
     "data": {
      "text/plain": [
       "36"
      ]
     },
     "execution_count": 71,
     "metadata": {},
     "output_type": "execute_result"
    }
   ],
   "source": [
    "len(d)"
   ]
  },
  {
   "cell_type": "code",
   "execution_count": 12,
   "id": "eleven-debate",
   "metadata": {},
   "outputs": [
    {
     "data": {
      "text/plain": [
       "0.08333333333333333"
      ]
     },
     "execution_count": 12,
     "metadata": {},
     "output_type": "execute_result"
    }
   ],
   "source": [
    "# bunun olasılığını heseaplamak istersem:\n",
    " \n",
    "p = len(p_list) / len(d)\n",
    "p"
   ]
  },
  {
   "cell_type": "markdown",
   "id": "comprehensive-archives",
   "metadata": {},
   "source": [
    "## Law of Large Numbers"
   ]
  },
  {
   "cell_type": "markdown",
   "id": "hispanic-commitment",
   "metadata": {},
   "source": [
    "we can simulate a large number of values for X"
   ]
  },
  {
   "cell_type": "code",
   "execution_count": 13,
   "id": "chemical-dispute",
   "metadata": {},
   "outputs": [],
   "source": [
    "import numpy as np\n",
    "import pandas as pd"
   ]
  },
  {
   "cell_type": "code",
   "execution_count": 14,
   "id": "liberal-charter",
   "metadata": {},
   "outputs": [],
   "source": []
  },
  {
   "cell_type": "code",
   "execution_count": 75,
   "id": "united-zealand",
   "metadata": {},
   "outputs": [],
   "source": [
    "n = 100"
   ]
  },
  {
   "cell_type": "code",
   "execution_count": 76,
   "id": "aquatic-county",
   "metadata": {},
   "outputs": [
    {
     "data": {
      "text/plain": [
       "array([6, 5, 1, 3, 4, 3, 2, 4, 5, 2, 3, 2, 1, 5, 3, 4, 4, 1, 6, 2, 2, 3,\n",
       "       5, 6, 6, 3, 5, 2, 4, 6, 2, 3, 3, 2, 1, 6, 5, 3, 5, 1, 1, 6, 5, 1,\n",
       "       2, 4, 2, 6, 5, 4, 2, 6, 3, 3, 2, 4, 1, 1, 4, 3, 1, 4, 1, 6, 1, 1,\n",
       "       1, 5, 3, 6, 1, 2, 5, 4, 3, 6, 1, 3, 3, 4, 2, 4, 4, 6, 1, 4, 5, 1,\n",
       "       3, 6, 1, 5, 1, 4, 5, 3, 3, 5, 6, 1])"
      ]
     },
     "execution_count": 76,
     "metadata": {},
     "output_type": "execute_result"
    }
   ],
   "source": [
    "np.random.seed(56)\n",
    "die_1 = np.random.randint(1, 7, size=n)\n",
    "die_1"
   ]
  },
  {
   "cell_type": "code",
   "execution_count": 77,
   "id": "unnecessary-florida",
   "metadata": {},
   "outputs": [
    {
     "data": {
      "text/plain": [
       "array([5, 5, 4, 3, 6, 3, 6, 4, 3, 6, 1, 6, 6, 6, 4, 4, 3, 3, 1, 3, 3, 3,\n",
       "       1, 4, 5, 1, 1, 2, 5, 3, 2, 1, 5, 5, 3, 3, 4, 1, 2, 5, 3, 3, 1, 4,\n",
       "       1, 1, 3, 6, 2, 3, 5, 3, 6, 5, 4, 5, 5, 2, 6, 4, 4, 2, 3, 3, 2, 5,\n",
       "       3, 3, 4, 3, 5, 3, 5, 5, 4, 5, 1, 3, 4, 4, 1, 6, 1, 1, 6, 5, 1, 2,\n",
       "       6, 6, 5, 5, 3, 5, 5, 3, 4, 4, 3, 2])"
      ]
     },
     "execution_count": 77,
     "metadata": {},
     "output_type": "execute_result"
    }
   ],
   "source": [
    "np.random.seed(66)\n",
    "die_2 = np.random.randint(1, 7, size=n)\n",
    "die_2"
   ]
  },
  {
   "cell_type": "code",
   "execution_count": 78,
   "id": "clean-feature",
   "metadata": {},
   "outputs": [
    {
     "data": {
      "text/plain": [
       "array([11, 10,  5,  6, 10,  6,  8,  8,  8,  8,  4,  8,  7, 11,  7,  8,  7,\n",
       "        4,  7,  5,  5,  6,  6, 10, 11,  4,  6,  4,  9,  9,  4,  4,  8,  7,\n",
       "        4,  9,  9,  4,  7,  6,  4,  9,  6,  5,  3,  5,  5, 12,  7,  7,  7,\n",
       "        9,  9,  8,  6,  9,  6,  3, 10,  7,  5,  6,  4,  9,  3,  6,  4,  8,\n",
       "        7,  9,  6,  5, 10,  9,  7, 11,  2,  6,  7,  8,  3, 10,  5,  7,  7,\n",
       "        9,  6,  3,  9, 12,  6, 10,  4,  9, 10,  6,  7,  9,  9,  3])"
      ]
     },
     "execution_count": 78,
     "metadata": {},
     "output_type": "execute_result"
    }
   ],
   "source": [
    "X = die_1 + die_2\n",
    "X\n",
    "\n",
    "# iki zarın toplamı (soruda 4 olması aranıyor)"
   ]
  },
  {
   "cell_type": "code",
   "execution_count": 79,
   "id": "organizational-conclusion",
   "metadata": {
    "collapsed": true
   },
   "outputs": [
    {
     "data": {
      "text/html": [
       "<div>\n",
       "<style scoped>\n",
       "    .dataframe tbody tr th:only-of-type {\n",
       "        vertical-align: middle;\n",
       "    }\n",
       "\n",
       "    .dataframe tbody tr th {\n",
       "        vertical-align: top;\n",
       "    }\n",
       "\n",
       "    .dataframe thead th {\n",
       "        text-align: right;\n",
       "    }\n",
       "</style>\n",
       "<table border=\"1\" class=\"dataframe\">\n",
       "  <thead>\n",
       "    <tr style=\"text-align: right;\">\n",
       "      <th></th>\n",
       "      <th>die_1</th>\n",
       "      <th>die_2</th>\n",
       "      <th>X</th>\n",
       "    </tr>\n",
       "  </thead>\n",
       "  <tbody>\n",
       "    <tr>\n",
       "      <th>0</th>\n",
       "      <td>6</td>\n",
       "      <td>5</td>\n",
       "      <td>11</td>\n",
       "    </tr>\n",
       "    <tr>\n",
       "      <th>1</th>\n",
       "      <td>5</td>\n",
       "      <td>5</td>\n",
       "      <td>10</td>\n",
       "    </tr>\n",
       "    <tr>\n",
       "      <th>2</th>\n",
       "      <td>1</td>\n",
       "      <td>4</td>\n",
       "      <td>5</td>\n",
       "    </tr>\n",
       "    <tr>\n",
       "      <th>3</th>\n",
       "      <td>3</td>\n",
       "      <td>3</td>\n",
       "      <td>6</td>\n",
       "    </tr>\n",
       "    <tr>\n",
       "      <th>4</th>\n",
       "      <td>4</td>\n",
       "      <td>6</td>\n",
       "      <td>10</td>\n",
       "    </tr>\n",
       "  </tbody>\n",
       "</table>\n",
       "</div>"
      ],
      "text/plain": [
       "   die_1  die_2   X\n",
       "0      6      5  11\n",
       "1      5      5  10\n",
       "2      1      4   5\n",
       "3      3      3   6\n",
       "4      4      6  10"
      ]
     },
     "execution_count": 79,
     "metadata": {},
     "output_type": "execute_result"
    }
   ],
   "source": [
    "df = pd.DataFrame({\"die_1\" : die_1, \"die_2\":die_2, \"X\":X})\n",
    "df.head()"
   ]
  },
  {
   "cell_type": "code",
   "execution_count": 86,
   "id": "mighty-board",
   "metadata": {
    "collapsed": true
   },
   "outputs": [
    {
     "data": {
      "text/plain": [
       "4    12\n",
       "Name: X, dtype: int64"
      ]
     },
     "execution_count": 86,
     "metadata": {},
     "output_type": "execute_result"
    }
   ],
   "source": [
    "df[df.X == 4]['X'].value_counts()"
   ]
  },
  {
   "cell_type": "code",
   "execution_count": 90,
   "id": "stable-grammar",
   "metadata": {},
   "outputs": [
    {
     "data": {
      "text/plain": [
       "12"
      ]
     },
     "execution_count": 90,
     "metadata": {},
     "output_type": "execute_result"
    }
   ],
   "source": [
    "(X==4).sum()"
   ]
  },
  {
   "cell_type": "code",
   "execution_count": 31,
   "id": "boring-designer",
   "metadata": {},
   "outputs": [],
   "source": [
    "total_four = (X==4).sum()"
   ]
  },
  {
   "cell_type": "code",
   "execution_count": 33,
   "id": "voluntary-ocean",
   "metadata": {},
   "outputs": [
    {
     "data": {
      "text/plain": [
       "0.12"
      ]
     },
     "execution_count": 33,
     "metadata": {},
     "output_type": "execute_result"
    }
   ],
   "source": [
    "# olasılığı hesaplayalım.\n",
    "\n",
    "p = total_four / n\n",
    "\n",
    "p\n",
    "\n",
    "# olasılığın yukarda hesapladığımız teorik hesaplamadan farklı olduğunu gördük.\n",
    "# deneme sayımız az olduğyu için teorik sonuca yaklaşamadık."
   ]
  },
  {
   "cell_type": "markdown",
   "id": "floating-sapphire",
   "metadata": {},
   "source": [
    "### deneme sayımızı arttırırsak.."
   ]
  },
  {
   "cell_type": "code",
   "execution_count": 92,
   "id": "serious-guitar",
   "metadata": {},
   "outputs": [],
   "source": [
    "\n",
    "n = 100000"
   ]
  },
  {
   "cell_type": "code",
   "execution_count": 93,
   "id": "freelance-canberra",
   "metadata": {},
   "outputs": [
    {
     "data": {
      "text/plain": [
       "array([6, 5, 1, ..., 1, 6, 5])"
      ]
     },
     "execution_count": 93,
     "metadata": {},
     "output_type": "execute_result"
    }
   ],
   "source": [
    "np.random.seed(56)\n",
    "die_1 = np.random.randint(1, 7, size=n)\n",
    "die_1"
   ]
  },
  {
   "cell_type": "code",
   "execution_count": 94,
   "id": "medieval-surveillance",
   "metadata": {},
   "outputs": [
    {
     "data": {
      "text/plain": [
       "array([5, 5, 4, ..., 2, 5, 4])"
      ]
     },
     "execution_count": 94,
     "metadata": {},
     "output_type": "execute_result"
    }
   ],
   "source": [
    "np.random.seed(66)\n",
    "die_2 = np.random.randint(1, 7, size=n)\n",
    "die_2"
   ]
  },
  {
   "cell_type": "code",
   "execution_count": 95,
   "id": "forty-kentucky",
   "metadata": {},
   "outputs": [
    {
     "data": {
      "text/plain": [
       "array([11, 10,  5, ...,  3, 11,  9])"
      ]
     },
     "execution_count": 95,
     "metadata": {},
     "output_type": "execute_result"
    }
   ],
   "source": [
    "X = die_1 + die_2\n",
    "X"
   ]
  },
  {
   "cell_type": "code",
   "execution_count": 96,
   "id": "violent-reading",
   "metadata": {},
   "outputs": [
    {
     "data": {
      "text/html": [
       "<div>\n",
       "<style scoped>\n",
       "    .dataframe tbody tr th:only-of-type {\n",
       "        vertical-align: middle;\n",
       "    }\n",
       "\n",
       "    .dataframe tbody tr th {\n",
       "        vertical-align: top;\n",
       "    }\n",
       "\n",
       "    .dataframe thead th {\n",
       "        text-align: right;\n",
       "    }\n",
       "</style>\n",
       "<table border=\"1\" class=\"dataframe\">\n",
       "  <thead>\n",
       "    <tr style=\"text-align: right;\">\n",
       "      <th></th>\n",
       "      <th>die_1</th>\n",
       "      <th>die_2</th>\n",
       "      <th>X</th>\n",
       "    </tr>\n",
       "  </thead>\n",
       "  <tbody>\n",
       "    <tr>\n",
       "      <th>0</th>\n",
       "      <td>6</td>\n",
       "      <td>5</td>\n",
       "      <td>11</td>\n",
       "    </tr>\n",
       "    <tr>\n",
       "      <th>1</th>\n",
       "      <td>5</td>\n",
       "      <td>5</td>\n",
       "      <td>10</td>\n",
       "    </tr>\n",
       "    <tr>\n",
       "      <th>2</th>\n",
       "      <td>1</td>\n",
       "      <td>4</td>\n",
       "      <td>5</td>\n",
       "    </tr>\n",
       "    <tr>\n",
       "      <th>3</th>\n",
       "      <td>3</td>\n",
       "      <td>3</td>\n",
       "      <td>6</td>\n",
       "    </tr>\n",
       "    <tr>\n",
       "      <th>4</th>\n",
       "      <td>4</td>\n",
       "      <td>6</td>\n",
       "      <td>10</td>\n",
       "    </tr>\n",
       "  </tbody>\n",
       "</table>\n",
       "</div>"
      ],
      "text/plain": [
       "   die_1  die_2   X\n",
       "0      6      5  11\n",
       "1      5      5  10\n",
       "2      1      4   5\n",
       "3      3      3   6\n",
       "4      4      6  10"
      ]
     },
     "execution_count": 96,
     "metadata": {},
     "output_type": "execute_result"
    }
   ],
   "source": [
    "df = pd.DataFrame({\"die_1\" : die_1, \"die_2\":die_2, \"X\":X})\n",
    "df.head()"
   ]
  },
  {
   "cell_type": "code",
   "execution_count": 98,
   "id": "ordered-pressing",
   "metadata": {},
   "outputs": [
    {
     "data": {
      "text/plain": [
       "8259"
      ]
     },
     "execution_count": 98,
     "metadata": {},
     "output_type": "execute_result"
    }
   ],
   "source": [
    "total_four = (X==4).sum()\n",
    "total_four"
   ]
  },
  {
   "cell_type": "code",
   "execution_count": 100,
   "id": "french-prague",
   "metadata": {},
   "outputs": [
    {
     "data": {
      "text/plain": [
       "0.08259"
      ]
     },
     "execution_count": 100,
     "metadata": {},
     "output_type": "execute_result"
    }
   ],
   "source": [
    "# şimdi olasılığa bakalım\n",
    "\n",
    "p = total_four / n\n",
    "\n",
    "p"
   ]
  },
  {
   "cell_type": "raw",
   "id": "interpreted-operator",
   "metadata": {},
   "source": [
    "simülasyonda  trial sayısını arttırdıkça formül sonucunda elde ettiğin teorik olasılık sayısına yaklaştığımızı görüyoruz. biz buna Low of Large Numbers diyoruz.\n",
    "\n",
    "teorik hesaplamada 0.08333333333333333 idi."
   ]
  },
  {
   "cell_type": "code",
   "execution_count": 101,
   "id": "devoted-pursuit",
   "metadata": {},
   "outputs": [
    {
     "data": {
      "text/plain": [
       "7     16711\n",
       "6     14036\n",
       "8     13939\n",
       "9     11128\n",
       "5     11079\n",
       "10     8306\n",
       "4      8259\n",
       "3      5447\n",
       "11     5439\n",
       "12     2852\n",
       "2      2804\n",
       "Name: X, dtype: int64"
      ]
     },
     "execution_count": 101,
     "metadata": {},
     "output_type": "execute_result"
    }
   ],
   "source": [
    "# X (iki zarın toplamı) değerlerinin tekrarlanma sayısına bakalım\n",
    "\n",
    "df.X.value_counts()"
   ]
  },
  {
   "cell_type": "code",
   "execution_count": 49,
   "id": "infinite-bedroom",
   "metadata": {},
   "outputs": [],
   "source": [
    "freq = df.X.value_counts()"
   ]
  },
  {
   "cell_type": "code",
   "execution_count": null,
   "id": "authentic-supplement",
   "metadata": {},
   "outputs": [],
   "source": []
  },
  {
   "cell_type": "code",
   "execution_count": 43,
   "id": "lonely-peripheral",
   "metadata": {},
   "outputs": [
    {
     "data": {
      "text/plain": [
       "<AxesSubplot:>"
      ]
     },
     "execution_count": 43,
     "metadata": {},
     "output_type": "execute_result"
    },
    {
     "data": {
      "image/png": "[encoded data removed]",
      "text/plain": [
       "<Figure size 432x288 with 1 Axes>"
      ]
     },
     "metadata": {
      "needs_background": "light"
     },
     "output_type": "display_data"
    }
   ],
   "source": [
    "X değerinini bar plotta görelim.\n",
    "\n",
    "freq.sort_index().plot(kind = 'bar', grid=True)\n",
    "\n",
    "# iki zarın toplamının 7 gelme durumu en sık tekrarlanmış"
   ]
  },
  {
   "cell_type": "code",
   "execution_count": null,
   "id": "historical-function",
   "metadata": {},
   "outputs": [],
   "source": []
  },
  {
   "cell_type": "code",
   "execution_count": null,
   "id": "together-plasma",
   "metadata": {},
   "outputs": [],
   "source": [
    "prob = df.X.value_counts() / n\n",
    "prob\n",
    "\n",
    "# iki zarın toplam değerlerinin (X), toplam atılan zar sayısına bölersek olasılıklarını buluruz"
   ]
  },
  {
   "cell_type": "code",
   "execution_count": 116,
   "id": "rough-depth",
   "metadata": {},
   "outputs": [
    {
     "data": {
      "text/plain": [
       "<AxesSubplot:>"
      ]
     },
     "execution_count": 116,
     "metadata": {},
     "output_type": "execute_result"
    },
    {
     "data": {
      "image/png": "[encoded data removed]",
      "text/plain": [
       "<Figure size 432x288 with 1 Axes>"
      ]
     },
     "metadata": {
      "needs_background": "light"
     },
     "output_type": "display_data"
    }
   ],
   "source": [
    "# bu olasılık değerlerinin bar plotunu görelim:\n",
    "\n",
    "prob.sort_index().plot(kind = 'bar', grid=True)\n",
    "\n",
    "# iki zarın toplamının 7 gelmesinin olasılığı en yüksek."
   ]
  },
  {
   "cell_type": "code",
   "execution_count": null,
   "id": "finished-roads",
   "metadata": {},
   "outputs": [],
   "source": []
  },
  {
   "cell_type": "markdown",
   "id": "strategic-airport",
   "metadata": {},
   "source": [
    "## What is the probability of rolling at least one 4 with 2 dice"
   ]
  },
  {
   "cell_type": "code",
   "execution_count": 41,
   "id": "monthly-occasion",
   "metadata": {},
   "outputs": [
    {
     "data": {
      "text/plain": [
       "{(1, 1): 2,\n",
       " (1, 2): 3,\n",
       " (1, 3): 4,\n",
       " (1, 4): 5,\n",
       " (1, 5): 6,\n",
       " (1, 6): 7,\n",
       " (2, 1): 3,\n",
       " (2, 2): 4,\n",
       " (2, 3): 5,\n",
       " (2, 4): 6,\n",
       " (2, 5): 7,\n",
       " (2, 6): 8,\n",
       " (3, 1): 4,\n",
       " (3, 2): 5,\n",
       " (3, 3): 6,\n",
       " (3, 4): 7,\n",
       " (3, 5): 8,\n",
       " (3, 6): 9,\n",
       " (4, 1): 5,\n",
       " (4, 2): 6,\n",
       " (4, 3): 7,\n",
       " (4, 4): 8,\n",
       " (4, 5): 9,\n",
       " (4, 6): 10,\n",
       " (5, 1): 6,\n",
       " (5, 2): 7,\n",
       " (5, 3): 8,\n",
       " (5, 4): 9,\n",
       " (5, 5): 10,\n",
       " (5, 6): 11,\n",
       " (6, 1): 7,\n",
       " (6, 2): 8,\n",
       " (6, 3): 9,\n",
       " (6, 4): 10,\n",
       " (6, 5): 11,\n",
       " (6, 6): 12}"
      ]
     },
     "execution_count": 41,
     "metadata": {},
     "output_type": "execute_result"
    }
   ],
   "source": [
    "d"
   ]
  },
  {
   "cell_type": "code",
   "execution_count": 46,
   "id": "binary-briefing",
   "metadata": {},
   "outputs": [
    {
     "data": {
      "text/plain": [
       "11"
      ]
     },
     "execution_count": 46,
     "metadata": {},
     "output_type": "execute_result"
    }
   ],
   "source": [
    "# 4 lerin gelme sayısı --> 11 (Raife hocamın kodu ile)\n",
    "\n",
    "l= []\n",
    "for pairs, sums in d.items():\n",
    "    if 4 in pairs:\n",
    "        l.append(pairs)\n",
    "len(l)"
   ]
  },
  {
   "cell_type": "code",
   "execution_count": 50,
   "id": "pressing-impact",
   "metadata": {},
   "outputs": [
    {
     "data": {
      "text/plain": [
       "11"
      ]
     },
     "execution_count": 50,
     "metadata": {},
     "output_type": "execute_result"
    }
   ],
   "source": [
    "#  (Joseph hocamın kodu ile)\n",
    "\n",
    "count = 0\n",
    "for i in d.keys():\n",
    "    if 4 in i:\n",
    "        count += 1\n",
    "count"
   ]
  },
  {
   "cell_type": "markdown",
   "id": "convertible-antarctica",
   "metadata": {},
   "source": [
    "### Conditional Probability"
   ]
  },
  {
   "cell_type": "raw",
   "id": "painted-concentration",
   "metadata": {},
   "source": [
    "A restaurant noted what type of food its customers ordered last week. Here are the results:"
   ]
  },
  {
   "cell_type": "markdown",
   "id": "dental-binary",
   "metadata": {},
   "source": [
    "!\"C:\\\\Users\\\\hüseyin\\\\image2.png\""
   ]
  },
  {
   "cell_type": "markdown",
   "id": "marked-elder",
   "metadata": {},
   "source": [
    "Find the probability that a randomly chosen customer ordered a burger given that they ordered fries."
   ]
  },
  {
   "cell_type": "code",
   "execution_count": 54,
   "id": "native-district",
   "metadata": {},
   "outputs": [],
   "source": [
    "p_burger = 0.7"
   ]
  },
  {
   "cell_type": "code",
   "execution_count": 55,
   "id": "small-significance",
   "metadata": {},
   "outputs": [],
   "source": [
    "p_fries = 0.5"
   ]
  },
  {
   "cell_type": "code",
   "execution_count": 56,
   "id": "relative-checklist",
   "metadata": {},
   "outputs": [],
   "source": [
    "P_burger_and_fries = 0.4"
   ]
  },
  {
   "cell_type": "raw",
   "id": "indie-marks",
   "metadata": {},
   "source": [
    "P_burger_given_fries = P_burger_and_fries / P(fries) = 0.4 / 0.5  = 0.8"
   ]
  },
  {
   "cell_type": "markdown",
   "id": "laughing-narrative",
   "metadata": {},
   "source": [
    "## BAYES Theorem"
   ]
  },
  {
   "cell_type": "markdown",
   "id": "ancient-electronics",
   "metadata": {},
   "source": [
    "Vera examined a random sample of deodorants distributed by her company. she found the following probabilities"
   ]
  },
  {
   "cell_type": "code",
   "execution_count": 58,
   "id": "polish-medium",
   "metadata": {},
   "outputs": [],
   "source": [
    "P_forMen = 0.55"
   ]
  },
  {
   "cell_type": "code",
   "execution_count": 59,
   "id": "spanish-basic",
   "metadata": {},
   "outputs": [],
   "source": [
    "P_botanicScent = 0.18"
   ]
  },
  {
   "cell_type": "code",
   "execution_count": null,
   "id": "freelance-retail",
   "metadata": {},
   "outputs": [],
   "source": []
  },
  {
   "cell_type": "code",
   "execution_count": null,
   "id": "loaded-person",
   "metadata": {},
   "outputs": [],
   "source": []
  },
  {
   "cell_type": "code",
   "execution_count": 60,
   "id": "graphic-chicago",
   "metadata": {},
   "outputs": [],
   "source": [
    "P_botanic_given_forMen = 1/11"
   ]
  },
  {
   "cell_type": "code",
   "execution_count": 62,
   "id": "willing-adventure",
   "metadata": {},
   "outputs": [],
   "source": [
    "P_forMen_given_botanic = (P_botanic_given_forMen * P_forMen) / P_botanicScent"
   ]
  },
  {
   "cell_type": "code",
   "execution_count": 63,
   "id": "academic-editing",
   "metadata": {},
   "outputs": [
    {
     "data": {
      "text/plain": [
       "0.2777777777777778"
      ]
     },
     "execution_count": 63,
     "metadata": {},
     "output_type": "execute_result"
    }
   ],
   "source": [
    "P_forMen_given_botanic"
   ]
  },
  {
   "cell_type": "code",
   "execution_count": null,
   "id": "small-miller",
   "metadata": {},
   "outputs": [],
   "source": []
  }
 ],
 "metadata": {
  "kernelspec": {
   "display_name": "Python 3",
   "language": "python",
   "name": "python3"
  },
  "language_info": {
   "codemirror_mode": {
    "name": "ipython",
    "version": 3
   },
   "file_extension": ".py",
   "mimetype": "text/x-python",
   "name": "python",
   "nbconvert_exporter": "python",
   "pygments_lexer": "ipython3",
   "version": "3.7.8"
  }
 },
 "nbformat": 4,
 "nbformat_minor": 5
}
