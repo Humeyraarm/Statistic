{
 "cells": [
  {
   "cell_type": "markdown",
   "id": "heated-cooking",
   "metadata": {},
   "source": [
    "## Descriptive Statistics"
   ]
  },
  {
   "cell_type": "raw",
   "id": "extensive-quest",
   "metadata": {},
   "source": [
    "Import NumPy, SciPy, and Pandas"
   ]
  },
  {
   "cell_type": "code",
   "execution_count": 2,
   "id": "identical-hamilton",
   "metadata": {},
   "outputs": [],
   "source": [
    "import numpy as np\n",
    "import pandas as pd\n",
    "import scipy.stats as stats"
   ]
  },
  {
   "cell_type": "raw",
   "id": "chinese-indication",
   "metadata": {},
   "source": [
    "Randomly generate 1,000 samples from the normal distribution using np.random.normal()(mean = 100, standard deviation = 15)"
   ]
  },
  {
   "cell_type": "code",
   "execution_count": null,
   "id": "arabic-friend",
   "metadata": {},
   "outputs": [],
   "source": [
    "\"\"\"\n",
    "np.random.normal()\n",
    "\n",
    "Draw random samples from a normal (Gaussian) distribution.\n",
    "\n",
    "loc : float or array_like of floats\n",
    "    Mean (\"centre\") of the distribution.\n",
    "scale : float or array_like of floats\n",
    "    Standard deviation (spread or \"width\") of the distribution. Must be\n",
    "    non-negative.\n",
    "size : int or tuple of ints, optional\n",
    "    Output shape.  If the given shape is, e.g., ``(m, n, k)``, then\n",
    "    ``m * n * k`` samples are drawn.  If size is ``None`` (default),\n",
    "    a single value is returned if ``loc`` and ``scale`` are both scalars.\n",
    "    Otherwise, ``np.broadcast(loc, scale).size`` samples are drawn.\n",
    "\"\"\""
   ]
  },
  {
   "cell_type": "code",
   "execution_count": 6,
   "id": "compliant-solid",
   "metadata": {},
   "outputs": [],
   "source": [
    "samples = np.random.normal(100,15,1000)"
   ]
  },
  {
   "cell_type": "markdown",
   "id": "practical-reconstruction",
   "metadata": {},
   "source": [
    "Compute the mean, median, and mode"
   ]
  },
  {
   "cell_type": "code",
   "execution_count": 7,
   "id": "latest-angel",
   "metadata": {},
   "outputs": [
    {
     "name": "stdout",
     "output_type": "stream",
     "text": [
      "100.13069116638482\n",
      "99.73388940360094\n",
      "ModeResult(mode=array([57.25981244]), count=array([1]))\n"
     ]
    }
   ],
   "source": [
    "mean =np.mean(samples)\n",
    "median = np.median(samples)\n",
    "mode = stats.mode(samples)\n",
    "print(mean)\n",
    "print(median)\n",
    "print(mode)"
   ]
  },
  {
   "cell_type": "markdown",
   "id": "unique-alcohol",
   "metadata": {},
   "source": [
    "Compute the **min, max, Q1, Q3**, and **interquartile range**"
   ]
  },
  {
   "cell_type": "code",
   "execution_count": 8,
   "id": "starting-satisfaction",
   "metadata": {},
   "outputs": [
    {
     "name": "stdout",
     "output_type": "stream",
     "text": [
      "57.25981243769809\n",
      "142.57077227596434\n",
      "90.43544824633024\n",
      "110.75940947282237\n",
      "20.32396122649213\n",
      "20.32396122649213\n"
     ]
    }
   ],
   "source": [
    "mini = np.min(samples)\n",
    "print(mini)\n",
    "maxi = np.max(samples)\n",
    "print(maxi)\n",
    "q1 = np.percentile(samples,25)\n",
    "print(q1)\n",
    "q3 = np.percentile(samples,75)\n",
    "print(q3)\n",
    "iqr = q3-q1\n",
    "iqr2= stats.iqr(samples)\n",
    "print(iqr)\n",
    "print(iqr2)"
   ]
  },
  {
   "cell_type": "markdown",
   "id": "defensive-latex",
   "metadata": {},
   "source": [
    "Compute the **variance** and **standard deviation**"
   ]
  },
  {
   "cell_type": "code",
   "execution_count": 9,
   "id": "beginning-alloy",
   "metadata": {},
   "outputs": [
    {
     "name": "stdout",
     "output_type": "stream",
     "text": [
      "221.5913588663021\n",
      "14.885945010858467\n"
     ]
    }
   ],
   "source": [
    "variance = np.var(samples)\n",
    "print(variance)\n",
    "std_dev = np.std(samples)\n",
    "print(std_dev)"
   ]
  },
  {
   "cell_type": "markdown",
   "id": "secure-murray",
   "metadata": {},
   "source": [
    "Compute the **skewness** and **kurtosis**"
   ]
  },
  {
   "cell_type": "code",
   "execution_count": 10,
   "id": "twelve-style",
   "metadata": {},
   "outputs": [
    {
     "name": "stdout",
     "output_type": "stream",
     "text": [
      "0.015511014133762456\n",
      "-0.09970080215015154\n"
     ]
    }
   ],
   "source": [
    "skewness = stats.skew(samples)\n",
    "print(skewness)\n",
    "kurtosis = stats.kurtosis(samples)\n",
    "print(kurtosis)"
   ]
  },
  {
   "cell_type": "markdown",
   "id": "sharing-riding",
   "metadata": {},
   "source": [
    "## NumPy Correlation Calculation"
   ]
  },
  {
   "cell_type": "markdown",
   "id": "completed-state",
   "metadata": {},
   "source": [
    "Create an array x of integers between 10 (inclusive) and 20 (exclusive). Use np.arange()"
   ]
  },
  {
   "cell_type": "code",
   "execution_count": 11,
   "id": "mature-house",
   "metadata": {},
   "outputs": [
    {
     "data": {
      "text/plain": [
       "array([10, 11, 12, 13, 14, 15, 16, 17, 18, 19])"
      ]
     },
     "execution_count": 11,
     "metadata": {},
     "output_type": "execute_result"
    }
   ],
   "source": [
    "x = np.arange(10,20)\n",
    "x"
   ]
  },
  {
   "cell_type": "markdown",
   "id": "authorized-investment",
   "metadata": {},
   "source": [
    "Then use np.array() to create a second array y containing 10 arbitrary integers."
   ]
  },
  {
   "cell_type": "code",
   "execution_count": 12,
   "id": "secret-healthcare",
   "metadata": {},
   "outputs": [],
   "source": [
    "y = np.array([1,2,3,4,5,6,7,8,9,10])"
   ]
  },
  {
   "cell_type": "markdown",
   "id": "healthy-compound",
   "metadata": {},
   "source": [
    "Once you have two arrays of the same length, you can compute the **correlation coefficient** between x and y"
   ]
  },
  {
   "cell_type": "code",
   "execution_count": 13,
   "id": "animal-resource",
   "metadata": {},
   "outputs": [
    {
     "data": {
      "text/plain": [
       "array([[1., 1.],\n",
       "       [1., 1.]])"
      ]
     },
     "execution_count": 13,
     "metadata": {},
     "output_type": "execute_result"
    }
   ],
   "source": [
    "r = np.corrcoef(x, y)\n",
    "r"
   ]
  },
  {
   "cell_type": "markdown",
   "id": "suffering-austria",
   "metadata": {},
   "source": [
    "## Pandas Correlation Calculation"
   ]
  },
  {
   "cell_type": "markdown",
   "id": "favorite-campaign",
   "metadata": {},
   "source": [
    "Run the code below"
   ]
  },
  {
   "cell_type": "code",
   "execution_count": 14,
   "id": "cutting-regular",
   "metadata": {},
   "outputs": [],
   "source": [
    "x = pd.Series(range(10, 20))\n",
    "y = pd.Series([2, 1, 4, 5, 8, 12, 18, 25, 96, 48])"
   ]
  },
  {
   "cell_type": "markdown",
   "id": "allied-tower",
   "metadata": {},
   "source": [
    "Call the relevant method to calculate Pearson's r correlation."
   ]
  },
  {
   "cell_type": "code",
   "execution_count": 15,
   "id": "direct-scottish",
   "metadata": {
    "scrolled": false
   },
   "outputs": [
    {
     "name": "stdout",
     "output_type": "stream",
     "text": [
      "(0.758640289091187, 0.010964341301680813)\n"
     ]
    }
   ],
   "source": [
    "r = stats.pearsonr(x, y)\n",
    "print(r)"
   ]
  },
  {
   "cell_type": "markdown",
   "id": "intensive-confidence",
   "metadata": {},
   "source": [
    "OPTIONAL. Call the relevant method to calculate Spearman's rho correlation."
   ]
  },
  {
   "cell_type": "code",
   "execution_count": 16,
   "id": "controlling-armenia",
   "metadata": {},
   "outputs": [
    {
     "name": "stdout",
     "output_type": "stream",
     "text": [
      "SpearmanrResult(correlation=0.9757575757575757, pvalue=1.4675461874042197e-06)\n"
     ]
    }
   ],
   "source": [
    "rho = stats.spearmanr(x, y)\n",
    "print(rho)"
   ]
  },
  {
   "cell_type": "markdown",
   "id": "exempt-structure",
   "metadata": {},
   "source": [
    "## Seaborn Dataset Tips"
   ]
  },
  {
   "cell_type": "markdown",
   "id": "noted-consent",
   "metadata": {},
   "source": [
    "Import Seaborn Library"
   ]
  },
  {
   "cell_type": "code",
   "execution_count": 17,
   "id": "original-florist",
   "metadata": {},
   "outputs": [],
   "source": [
    "import seaborn as sns"
   ]
  },
  {
   "cell_type": "markdown",
   "id": "muslim-pattern",
   "metadata": {},
   "source": [
    "Load \"tips\" dataset from Seaborn"
   ]
  },
  {
   "cell_type": "code",
   "execution_count": 18,
   "id": "trained-mechanism",
   "metadata": {},
   "outputs": [],
   "source": [
    "tips = sns.load_dataset(\"tips\")"
   ]
  },
  {
   "cell_type": "markdown",
   "id": "authentic-street",
   "metadata": {},
   "source": [
    "Generate descriptive statistics include those that summarize the central tendency, dispersion"
   ]
  },
  {
   "cell_type": "code",
   "execution_count": 19,
   "id": "sustainable-morrison",
   "metadata": {},
   "outputs": [
    {
     "data": {
      "text/html": [
       "<div>\n",
       "<style scoped>\n",
       "    .dataframe tbody tr th:only-of-type {\n",
       "        vertical-align: middle;\n",
       "    }\n",
       "\n",
       "    .dataframe tbody tr th {\n",
       "        vertical-align: top;\n",
       "    }\n",
       "\n",
       "    .dataframe thead th {\n",
       "        text-align: right;\n",
       "    }\n",
       "</style>\n",
       "<table border=\"1\" class=\"dataframe\">\n",
       "  <thead>\n",
       "    <tr style=\"text-align: right;\">\n",
       "      <th></th>\n",
       "      <th>total_bill</th>\n",
       "      <th>tip</th>\n",
       "      <th>size</th>\n",
       "    </tr>\n",
       "  </thead>\n",
       "  <tbody>\n",
       "    <tr>\n",
       "      <th>count</th>\n",
       "      <td>244.000000</td>\n",
       "      <td>244.000000</td>\n",
       "      <td>244.000000</td>\n",
       "    </tr>\n",
       "    <tr>\n",
       "      <th>mean</th>\n",
       "      <td>19.785943</td>\n",
       "      <td>2.998279</td>\n",
       "      <td>2.569672</td>\n",
       "    </tr>\n",
       "    <tr>\n",
       "      <th>std</th>\n",
       "      <td>8.902412</td>\n",
       "      <td>1.383638</td>\n",
       "      <td>0.951100</td>\n",
       "    </tr>\n",
       "    <tr>\n",
       "      <th>min</th>\n",
       "      <td>3.070000</td>\n",
       "      <td>1.000000</td>\n",
       "      <td>1.000000</td>\n",
       "    </tr>\n",
       "    <tr>\n",
       "      <th>25%</th>\n",
       "      <td>13.347500</td>\n",
       "      <td>2.000000</td>\n",
       "      <td>2.000000</td>\n",
       "    </tr>\n",
       "    <tr>\n",
       "      <th>50%</th>\n",
       "      <td>17.795000</td>\n",
       "      <td>2.900000</td>\n",
       "      <td>2.000000</td>\n",
       "    </tr>\n",
       "    <tr>\n",
       "      <th>75%</th>\n",
       "      <td>24.127500</td>\n",
       "      <td>3.562500</td>\n",
       "      <td>3.000000</td>\n",
       "    </tr>\n",
       "    <tr>\n",
       "      <th>max</th>\n",
       "      <td>50.810000</td>\n",
       "      <td>10.000000</td>\n",
       "      <td>6.000000</td>\n",
       "    </tr>\n",
       "  </tbody>\n",
       "</table>\n",
       "</div>"
      ],
      "text/plain": [
       "       total_bill         tip        size\n",
       "count  244.000000  244.000000  244.000000\n",
       "mean    19.785943    2.998279    2.569672\n",
       "std      8.902412    1.383638    0.951100\n",
       "min      3.070000    1.000000    1.000000\n",
       "25%     13.347500    2.000000    2.000000\n",
       "50%     17.795000    2.900000    2.000000\n",
       "75%     24.127500    3.562500    3.000000\n",
       "max     50.810000   10.000000    6.000000"
      ]
     },
     "execution_count": 19,
     "metadata": {},
     "output_type": "execute_result"
    }
   ],
   "source": [
    "tips.describe()"
   ]
  },
  {
   "cell_type": "code",
   "execution_count": 21,
   "id": "developing-pattern",
   "metadata": {},
   "outputs": [
    {
     "data": {
      "text/plain": [
       "ModeResult(mode=array([13.42]), count=array([3]))"
      ]
     },
     "execution_count": 21,
     "metadata": {},
     "output_type": "execute_result"
    }
   ],
   "source": [
    "stats.mode(tips[\"total_bill\"])"
   ]
  },
  {
   "cell_type": "code",
   "execution_count": 22,
   "id": "protecting-dress",
   "metadata": {},
   "outputs": [
    {
     "data": {
      "text/plain": [
       "ModeResult(mode=array([2.]), count=array([33]))"
      ]
     },
     "execution_count": 22,
     "metadata": {},
     "output_type": "execute_result"
    }
   ],
   "source": [
    "stats.mode(tips[\"tip\"])"
   ]
  },
  {
   "cell_type": "code",
   "execution_count": 23,
   "id": "south-affiliate",
   "metadata": {},
   "outputs": [
    {
     "data": {
      "text/plain": [
       "8.902411954856856"
      ]
     },
     "execution_count": 23,
     "metadata": {},
     "output_type": "execute_result"
    }
   ],
   "source": [
    "tips[\"total_bill\"].std()"
   ]
  },
  {
   "cell_type": "code",
   "execution_count": 26,
   "id": "occupied-navigation",
   "metadata": {},
   "outputs": [
    {
     "name": "stdout",
     "output_type": "stream",
     "text": [
      "        total_bill       tip      size\n",
      "min       3.070000  1.000000  1.000000\n",
      "median   17.795000  2.900000  2.000000\n",
      "std       8.902412  1.383638  0.951100\n",
      "var      79.252939  1.914455  0.904591\n"
     ]
    }
   ],
   "source": [
    "print(tips.agg([\"min\",\"median\",\"std\", \"var\"]))"
   ]
  },
  {
   "cell_type": "markdown",
   "id": "horizontal-blast",
   "metadata": {},
   "source": [
    "Call the relevant method to calculate pairwise Pearson's r correlation of columns"
   ]
  },
  {
   "cell_type": "code",
   "execution_count": 27,
   "id": "chemical-rider",
   "metadata": {},
   "outputs": [
    {
     "data": {
      "text/html": [
       "<div>\n",
       "<style scoped>\n",
       "    .dataframe tbody tr th:only-of-type {\n",
       "        vertical-align: middle;\n",
       "    }\n",
       "\n",
       "    .dataframe tbody tr th {\n",
       "        vertical-align: top;\n",
       "    }\n",
       "\n",
       "    .dataframe thead th {\n",
       "        text-align: right;\n",
       "    }\n",
       "</style>\n",
       "<table border=\"1\" class=\"dataframe\">\n",
       "  <thead>\n",
       "    <tr style=\"text-align: right;\">\n",
       "      <th></th>\n",
       "      <th>total_bill</th>\n",
       "      <th>tip</th>\n",
       "      <th>sex</th>\n",
       "      <th>smoker</th>\n",
       "      <th>day</th>\n",
       "      <th>time</th>\n",
       "      <th>size</th>\n",
       "    </tr>\n",
       "  </thead>\n",
       "  <tbody>\n",
       "    <tr>\n",
       "      <th>0</th>\n",
       "      <td>16.99</td>\n",
       "      <td>1.01</td>\n",
       "      <td>Female</td>\n",
       "      <td>No</td>\n",
       "      <td>Sun</td>\n",
       "      <td>Dinner</td>\n",
       "      <td>2</td>\n",
       "    </tr>\n",
       "  </tbody>\n",
       "</table>\n",
       "</div>"
      ],
      "text/plain": [
       "   total_bill   tip     sex smoker  day    time  size\n",
       "0       16.99  1.01  Female     No  Sun  Dinner     2"
      ]
     },
     "execution_count": 27,
     "metadata": {},
     "output_type": "execute_result"
    }
   ],
   "source": [
    "tips.head(1)"
   ]
  },
  {
   "cell_type": "code",
   "execution_count": 28,
   "id": "chicken-indiana",
   "metadata": {},
   "outputs": [
    {
     "data": {
      "text/plain": [
       "(0.6757341092113647, 6.6924706468630016e-34)"
      ]
     },
     "execution_count": 28,
     "metadata": {},
     "output_type": "execute_result"
    }
   ],
   "source": [
    "stats.pearsonr(tips[\"total_bill\"], tips[\"tip\"])"
   ]
  },
  {
   "cell_type": "code",
   "execution_count": 29,
   "id": "figured-steel",
   "metadata": {},
   "outputs": [
    {
     "data": {
      "text/plain": [
       "(0.5983151309049013, 4.393510142477069e-25)"
      ]
     },
     "execution_count": 29,
     "metadata": {},
     "output_type": "execute_result"
    }
   ],
   "source": [
    "stats.pearsonr(tips[\"total_bill\"], tips[\"size\"])"
   ]
  },
  {
   "cell_type": "code",
   "execution_count": 31,
   "id": "compatible-albania",
   "metadata": {},
   "outputs": [
    {
     "data": {
      "text/plain": [
       "(0.4892987752303571, 4.3005433272249695e-16)"
      ]
     },
     "execution_count": 31,
     "metadata": {},
     "output_type": "execute_result"
    }
   ],
   "source": [
    "stats.pearsonr(tips[\"tip\"], tips[\"size\"])"
   ]
  }
 ],
 "metadata": {
  "kernelspec": {
   "display_name": "Python 3",
   "language": "python",
   "name": "python3"
  },
  "language_info": {
   "codemirror_mode": {
    "name": "ipython",
    "version": 3
   },
   "file_extension": ".py",
   "mimetype": "text/x-python",
   "name": "python",
   "nbconvert_exporter": "python",
   "pygments_lexer": "ipython3",
   "version": "3.7.8"
  }
 },
 "nbformat": 4,
 "nbformat_minor": 5
}
